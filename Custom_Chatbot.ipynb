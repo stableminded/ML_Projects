{
  "nbformat": 4,
  "nbformat_minor": 0,
  "metadata": {
    "colab": {
      "provenance": [],
      "authorship_tag": "ABX9TyOtMU5j1MFFak/HSIGGPJi6",
      "include_colab_link": true
    },
    "kernelspec": {
      "name": "python3",
      "display_name": "Python 3"
    },
    "language_info": {
      "name": "python"
    }
  },
  "cells": [
    {
      "cell_type": "markdown",
      "metadata": {
        "id": "view-in-github",
        "colab_type": "text"
      },
      "source": [
        "<a href=\"https://colab.research.google.com/github/stableminded/ML_Projects/blob/Custom-Chatbot/Custom_Chatbot.ipynb\" target=\"_parent\"><img src=\"https://colab.research.google.com/assets/colab-badge.svg\" alt=\"Open In Colab\"/></a>"
      ]
    },
    {
      "cell_type": "code",
      "execution_count": null,
      "metadata": {
        "colab": {
          "base_uri": "https://localhost:8080/"
        },
        "id": "ZXoFTA7iAvlu",
        "outputId": "d147a740-320d-4ac2-c3d8-88986d758fd8"
      },
      "outputs": [
        {
          "output_type": "stream",
          "name": "stdout",
          "text": [
            "Requirement already satisfied: nltk in /usr/local/lib/python3.10/dist-packages (3.8.1)\n",
            "Requirement already satisfied: click in /usr/local/lib/python3.10/dist-packages (from nltk) (8.1.7)\n",
            "Requirement already satisfied: joblib in /usr/local/lib/python3.10/dist-packages (from nltk) (1.3.2)\n",
            "Requirement already satisfied: regex>=2021.8.3 in /usr/local/lib/python3.10/dist-packages (from nltk) (2023.6.3)\n",
            "Requirement already satisfied: tqdm in /usr/local/lib/python3.10/dist-packages (from nltk) (4.66.1)\n"
          ]
        }
      ],
      "source": [
        "pip install nltk"
      ]
    },
    {
      "cell_type": "code",
      "source": [
        "pip install newspaper3k"
      ],
      "metadata": {
        "id": "DjcTe0pZA6As",
        "colab": {
          "base_uri": "https://localhost:8080/"
        },
        "outputId": "8219f3e2-e7b7-48bf-f801-5bc0c63aa3df"
      },
      "execution_count": null,
      "outputs": [
        {
          "output_type": "stream",
          "name": "stdout",
          "text": [
            "Requirement already satisfied: newspaper3k in /usr/local/lib/python3.10/dist-packages (0.2.8)\n",
            "Requirement already satisfied: beautifulsoup4>=4.4.1 in /usr/local/lib/python3.10/dist-packages (from newspaper3k) (4.11.2)\n",
            "Requirement already satisfied: Pillow>=3.3.0 in /usr/local/lib/python3.10/dist-packages (from newspaper3k) (9.4.0)\n",
            "Requirement already satisfied: PyYAML>=3.11 in /usr/local/lib/python3.10/dist-packages (from newspaper3k) (6.0.1)\n",
            "Requirement already satisfied: cssselect>=0.9.2 in /usr/local/lib/python3.10/dist-packages (from newspaper3k) (1.2.0)\n",
            "Requirement already satisfied: lxml>=3.6.0 in /usr/local/lib/python3.10/dist-packages (from newspaper3k) (4.9.3)\n",
            "Requirement already satisfied: nltk>=3.2.1 in /usr/local/lib/python3.10/dist-packages (from newspaper3k) (3.8.1)\n",
            "Requirement already satisfied: requests>=2.10.0 in /usr/local/lib/python3.10/dist-packages (from newspaper3k) (2.31.0)\n",
            "Requirement already satisfied: feedparser>=5.2.1 in /usr/local/lib/python3.10/dist-packages (from newspaper3k) (6.0.10)\n",
            "Requirement already satisfied: tldextract>=2.0.1 in /usr/local/lib/python3.10/dist-packages (from newspaper3k) (3.5.0)\n",
            "Requirement already satisfied: feedfinder2>=0.0.4 in /usr/local/lib/python3.10/dist-packages (from newspaper3k) (0.0.4)\n",
            "Requirement already satisfied: jieba3k>=0.35.1 in /usr/local/lib/python3.10/dist-packages (from newspaper3k) (0.35.1)\n",
            "Requirement already satisfied: python-dateutil>=2.5.3 in /usr/local/lib/python3.10/dist-packages (from newspaper3k) (2.8.2)\n",
            "Requirement already satisfied: tinysegmenter==0.3 in /usr/local/lib/python3.10/dist-packages (from newspaper3k) (0.3)\n",
            "Requirement already satisfied: soupsieve>1.2 in /usr/local/lib/python3.10/dist-packages (from beautifulsoup4>=4.4.1->newspaper3k) (2.5)\n",
            "Requirement already satisfied: six in /usr/local/lib/python3.10/dist-packages (from feedfinder2>=0.0.4->newspaper3k) (1.16.0)\n",
            "Requirement already satisfied: sgmllib3k in /usr/local/lib/python3.10/dist-packages (from feedparser>=5.2.1->newspaper3k) (1.0.0)\n",
            "Requirement already satisfied: click in /usr/local/lib/python3.10/dist-packages (from nltk>=3.2.1->newspaper3k) (8.1.7)\n",
            "Requirement already satisfied: joblib in /usr/local/lib/python3.10/dist-packages (from nltk>=3.2.1->newspaper3k) (1.3.2)\n",
            "Requirement already satisfied: regex>=2021.8.3 in /usr/local/lib/python3.10/dist-packages (from nltk>=3.2.1->newspaper3k) (2023.6.3)\n",
            "Requirement already satisfied: tqdm in /usr/local/lib/python3.10/dist-packages (from nltk>=3.2.1->newspaper3k) (4.66.1)\n",
            "Requirement already satisfied: charset-normalizer<4,>=2 in /usr/local/lib/python3.10/dist-packages (from requests>=2.10.0->newspaper3k) (3.2.0)\n",
            "Requirement already satisfied: idna<4,>=2.5 in /usr/local/lib/python3.10/dist-packages (from requests>=2.10.0->newspaper3k) (3.4)\n",
            "Requirement already satisfied: urllib3<3,>=1.21.1 in /usr/local/lib/python3.10/dist-packages (from requests>=2.10.0->newspaper3k) (2.0.4)\n",
            "Requirement already satisfied: certifi>=2017.4.17 in /usr/local/lib/python3.10/dist-packages (from requests>=2.10.0->newspaper3k) (2023.7.22)\n",
            "Requirement already satisfied: requests-file>=1.4 in /usr/local/lib/python3.10/dist-packages (from tldextract>=2.0.1->newspaper3k) (1.5.1)\n",
            "Requirement already satisfied: filelock>=3.0.8 in /usr/local/lib/python3.10/dist-packages (from tldextract>=2.0.1->newspaper3k) (3.12.2)\n"
          ]
        }
      ]
    },
    {
      "cell_type": "code",
      "source": [
        "from newspaper import Article\n",
        "import random\n",
        "import string\n",
        "import nltk\n",
        "from sklearn.feature_extraction.text import CountVectorizer\n",
        "from sklearn.metrics.pairwise import cosine_similarity\n",
        "import numpy as np\n",
        "import warnings\n",
        "warnings.filterwarnings('ignore')"
      ],
      "metadata": {
        "id": "Zg5RcKR6xKhh"
      },
      "execution_count": null,
      "outputs": []
    },
    {
      "cell_type": "code",
      "source": [
        "#Downloading the punkt package\n",
        "nltk.download('punkt')"
      ],
      "metadata": {
        "id": "ov50oPR2xRwA",
        "colab": {
          "base_uri": "https://localhost:8080/"
        },
        "outputId": "2c2795b1-4b26-4e05-aa36-7ecdc79c7e5e"
      },
      "execution_count": null,
      "outputs": [
        {
          "output_type": "stream",
          "name": "stderr",
          "text": [
            "[nltk_data] Downloading package punkt to /root/nltk_data...\n",
            "[nltk_data]   Package punkt is already up-to-date!\n"
          ]
        },
        {
          "output_type": "execute_result",
          "data": {
            "text/plain": [
              "True"
            ]
          },
          "metadata": {},
          "execution_count": 42
        }
      ]
    },
    {
      "cell_type": "code",
      "source": [
        "article=Article('https://en.wikipedia.org/wiki/Chronic_condition')\n",
        "article.download()\n",
        "article.parse()\n",
        "article.nlp()\n",
        "corpus=article.text"
      ],
      "metadata": {
        "id": "jO0VQq3Wy9fJ"
      },
      "execution_count": null,
      "outputs": []
    },
    {
      "cell_type": "code",
      "source": [
        "print(corpus)"
      ],
      "metadata": {
        "colab": {
          "base_uri": "https://localhost:8080/"
        },
        "id": "7yWb6U0ezU0z",
        "outputId": "f3f54d09-d45d-4d78-9f69-dad448ff67bb"
      },
      "execution_count": null,
      "outputs": [
        {
          "output_type": "stream",
          "name": "stdout",
          "text": [
            "Persistent human health condition or disease\n",
            "\n",
            "Not to be confused with Chronic toxicity\n",
            "\n",
            "A chronic condition (also known as chronic disease or chronic illness) is a health condition or disease that is persistent or otherwise long-lasting in its effects or a disease that comes with time. The term chronic is often applied when the course of the disease lasts for more than three months. Common chronic diseases include diabetes, functional gastrointestinal disorder, eczema, arthritis, asthma, chronic obstructive pulmonary disease, autoimmune diseases, genetic disorders and some viral diseases such as hepatitis C and acquired immunodeficiency syndrome. An illness which is lifelong because it ends in death is a terminal illness. It is possible and not unexpected for an illness to change in definition from terminal to chronic. Diabetes and HIV for example were once terminal yet are now considered chronic due to the availability of insulin for diabetics and daily drug treatment for individuals with HIV which allow these individuals to live while managing symptoms.[1]\n",
            "\n",
            "In medicine, chronic conditions are distinguished from those that are acute. An acute condition typically affects one portion of the body and responds to treatment. A chronic condition, on the other hand, usually affects multiple areas of the body, is not fully responsive to treatment, and persists for an extended period of time.[2]\n",
            "\n",
            "Chronic conditions may have periods of remission or relapse where the disease temporarily goes away, or subsequently reappears. Periods of remission and relapse are commonly discussed when referring to substance abuse disorders which some consider to fall under the category of chronic condition.[3]\n",
            "\n",
            "Chronic conditions are often associated with non-communicable diseases which are distinguished by their non-infectious causes. Some chronic conditions though, are caused by transmissible infections such as HIV/AIDS.[citation needed]\n",
            "\n",
            "63% of all deaths worldwide are from chronic conditions.[4] Chronic diseases constitute a major cause of mortality, and the World Health Organization (WHO) attributes 38 million deaths a year to non-communicable diseases.[5] In the United States approximately 40% of adults have at least two chronic conditions.[6][7] Living with two or more chronic conditions is referred to as multimorbidity.[8]\n",
            "\n",
            "Types [ edit ]\n",
            "\n",
            "Chronic conditions have often been used to describe the various health related states of the human body such as syndromes, physical impairments, disabilities as well as diseases. Epidemiologists have found interest in chronic conditions due to the fact they contribute to disease, disability, and diminished physical and/or mental capacity.[9]\n",
            "\n",
            "For example, high blood pressure or hypertension is considered to be not only a chronic condition itself but also correlated to diseases such as heart attack or stroke. Additionally, some socioeconomic factors may be considered as a chronic condition as they lead to disability in daily life. An important one that public health officials in the social science setting have begun highlighting is chronic poverty.[10][11][12]\n",
            "\n",
            "Researchers, particularly those studying the United States, utilize the Chronic Condition Indicator (CCI) which maps ICD codes as \"chronic\" or \"non-chronic\".[13]\n",
            "\n",
            "The list below includes these chronic conditions and diseases:\n",
            "\n",
            "In 2015 the World Health Organization produced a report on non-communicable diseases, citing the four major types as:[14]\n",
            "\n",
            "Other examples of chronic diseases and health conditions include:\n",
            "\n",
            "Risk factors [ edit ]\n",
            "\n",
            "While risk factors vary with age and gender, many of the common chronic diseases in the US are caused by dietary, lifestyle and metabolic risk factors.[15] Therefore, these conditions might be prevented by behavioral changes, such as quitting smoking, adopting a healthy diet, and increasing physical activity. Social determinants are important risk factors for chronic diseases.[16] Social factors, e.g., socioeconomic status, education level, and race/ethnicity, are a major cause for the disparities observed in the care of chronic disease.[16] Lack of access and delay in receiving care result in worse outcomes for patients from minorities and underserved populations.[17] Those barriers to medical care complicate patients monitoring and continuity in treatment.[citation needed]\n",
            "\n",
            "In the US, minorities and low-income populations are less likely to seek, access and receive preventive services necessary to detect conditions at an early stage.[18]\n",
            "\n",
            "The majority of US health care and economic costs associated with medical conditions are incurred by chronic diseases and conditions and associated health risk behaviors. Eighty-four percent of all health care spending in 2006 was for the 50% of the population who have one or more common chronic medical conditions (CDC, 2014).\n",
            "\n",
            "There are several psychosocial risk and resistance factors among children with chronic illness and their family members. Adults with chronic illness were significantly more likely to report life dissatisfaction than those without chronic illness.[19] Compared to their healthy peers, children with chronic illness have about a twofold increase in psychiatric disorders.[20] Higher parental depression and other family stressors predicted more problems among patients.[21] In addition, sibling problems along with the burden of illness on the family as a whole led to more psychological strain on the patients and their families.[21]\n",
            "\n",
            "Prevention [ edit ]\n",
            "\n",
            "A growing body of evidence supports that prevention is effective in reducing the effect of chronic conditions; in particular, early detection results in less severe outcomes. Clinical preventive services include screening for the existence of the disease or predisposition to its development, counseling and immunizations against infectious agents. Despite their effectiveness, the utilization of preventive services is typically lower than for regular medical services. In contrast to their apparent cost in time and money, the benefits of preventive services are not directly perceived by patient because their effects are on the long term or might be greater for society as a whole than at the individual level.[22]\n",
            "\n",
            "Therefore, public health programs are important in educating the public, and promoting healthy lifestyles and awareness about chronic diseases. While those programs can benefit from funding at different levels (state, federal, private) their implementation is mostly in charge of local agencies and community-based organizations.[23]\n",
            "\n",
            "Studies have shown that public health programs are effective in reducing mortality rates associated to cardiovascular disease, diabetes and cancer, but the results are somewhat heterogeneous depending on the type of condition and the type of programs involved.[24] For example, results from different approaches in cancer prevention and screening depended highly on the type of cancer.[25] The rising number of patient with chronic diseases has renewed the interest in prevention and its potential role in helping control costs. In 2008, the Trust for America's Health produced a report that estimated investing $10 per person annually in community-based programs of proven effectiveness and promoting healthy lifestyle (increase in physical activity, healthier diet and preventing tobacco use) could save more than $16 billion annually within a period of just five years.[26]\n",
            "\n",
            "A 2017 review (updated in 2022) found that it is uncertain whether school-based policies on targeting risk factors on chronic diseases such as healthy eating policies, physical activity policies, and tobacco policies can improve student health behaviours or knowledge of staffs and students.[27] The updated review in 2022 did determine a slight improvement in measures of obesity and physical activity as the use of improved strategies lead to increased implementation interventions but continued to call for additional research to address questions related to alcohol use and risk.[27] Encouraging those with chronic conditions to continue with their outpatient (ambulatory) medical care and attend scheduled medical appointments may help improve outcomes and reduce medical costs due to missed appointments.[28] Finding patient-centered alternatives to doctors or consultants scheduling medical appointments has been suggested as a means of improving the number of people with chronic conditions that miss medical appointments, however there is no strong evidence that these approaches make a difference.[28]\n",
            "\n",
            "Nursing [ edit ]\n",
            "\n",
            "Nursing can play an important role in assisting patients with chronic diseases achieve longevity and experience wellness.[29] Scholars point out that the current neoliberal era emphasizes self-care, in both affluent and low-income communities.[30] This self-care focus extends to the nursing of patients with chronic diseases, replacing a more holistic role for nursing with an emphasis on patients managing their own health conditions. Critics note that this is challenging if not impossible for patients with chronic disease in low-income communities where health care systems, and economic and social structures do not fully support this practice.[30]\n",
            "\n",
            "A study in Ethiopia showcases a nursing-heavy approach to the management of chronic disease. Foregrounding the problem of distance from healthcare facility, the study recommends patients increase their request for care. It uses nurses and health officers to fill, in a cost-efficient way, the large unmet need for chronic disease treatment.[31] They led their health centers manned by nurses and health officers; so, there are specific training required for involvement in the programmed must be carried out regularly, to ensure that new staff is educated in administering chronic disease care.[31] The program shows that community-based care and education, primarily driven by nurses and health officers, works.[31] It highlights the importance of nurses following up with individuals in the community, and allowing nurses flexibility in meeting their patients' needs and educating them for self-care in their homes.[citation needed]\n",
            "\n",
            "Epidemiology [ edit ]\n",
            "\n",
            "The epidemiology of chronic disease is diverse and the epidemiology of some chronic diseases can change in response to new treatments. In the treatment of HIV, the success of anti-retroviral therapies means that many patients will experience this infection as a chronic disease that for many will span several decades of their chronic life.[32]\n",
            "\n",
            "Some epidemiology of chronic disease can apply to multiple diagnosis. Obesity and body fat distribution for example contribute and are risk factors for many chronic diseases such as diabetes, heart, and kidney disease.[33] Other epidemiological factors, such as social, socioeconomic, and environment do not have a straightforward cause and effect relationship with chronic disease diagnosis. While typically higher socioeconomic status is correlated with lower occurrence of chronic disease, it is not known is there is a direct cause and effect relationship between these two variables.[34]\n",
            "\n",
            "The epidemiology of communicable chronic diseases such as AIDS is also different from that of noncommunicable chronic disease. While Social factors do play a role in AIDS prevalence, only exposure is truly needed to contract this chronic disease. Communicable chronic diseases are also typically only treatable with medication intervention, rather than lifestyle change as some non-communicable chronic diseases can be treated.[35]\n",
            "\n",
            "United States [ edit ]\n",
            "\n",
            "As of 2003, there are a few programs which aim to gain more knowledge on the epidemiology of chronic disease using data collection. The hope of these programs is to gather epidemiological data on various chronic diseases across the United States and demonstrate how this knowledge can be valuable in addressing chronic disease.[36]\n",
            "\n",
            "In the United States, as of 2004 nearly one in two Americans (133 million) has at least one chronic medical condition, with most subjects (58%) between the ages of 18 and 64.[13] The number is projected to increase by more than one percent per year by 2030, resulting in an estimated chronically ill population of 171 million.[13] The most common chronic conditions are high blood pressure, arthritis, respiratory diseases like emphysema, and high cholesterol.[citation needed]\n",
            "\n",
            "Based on data from 2014 Medical Expenditure Panel Survey (MEPS), about 60% of adult Americans were estimated to have one chronic illness, with about 40% having more than one; this rate appears to be mostly unchanged from 2008.[37] MEPS data from 1998 showed 45% of adult Americans had at least one chronic illness, and 21% had more than one.[38]\n",
            "\n",
            "According to research by the CDC, chronic disease is also especially a concern in the elderly population in America. Chronic diseases like stroke, heart disease, and cancer were among the leading causes of death among Americans aged 65 or older in 2002, accounting for 61% of all deaths among this subset of the population.[39] It is estimated that at least 80% of older Americans are currently living with some form of a chronic condition, with 50% of this population having two or more chronic conditions.[39] The two most common chronic conditions in the elderly are high blood pressure and arthritis, with diabetes, coronary heart disease, and cancer also being reported among the elder population.[40]\n",
            "\n",
            "In examining the statistics of chronic disease among the living elderly, it is also important to make note of the statistics pertaining to fatalities as a result of chronic disease. Heart disease is the leading cause of death from chronic disease for adults older than 65, followed by cancer, stroke, diabetes, chronic lower respiratory diseases, influenza and pneumonia, and, finally, Alzheimer's disease.[39] Though the rates of chronic disease differ by race for those living with chronic illness, the statistics for leading causes of death among elderly are nearly identical across racial/ethnic groups.[39]\n",
            "\n",
            "Chronic illnesses cause about 70% of deaths in the US and in 2002 chronic conditions (heart disease, cancers, stroke, chronic respiratory diseases, diabetes, Alzheimer's disease, mental illness and kidney diseases) were six of the top ten causes of mortality in the general US population.[41]\n",
            "\n",
            "Economic impact [ edit ]\n",
            "\n",
            "United States [ edit ]\n",
            "\n",
            "Chronic diseases are a major factor in the continuous growth of medical care spending.[42] In 2002, the U.S. Department of Health and Human Services stated that the health care for chronic diseases cost the most among all health problems in the U.S.[43] Healthy People 2010 reported that more than 75% of the $2 trillion spent annually in U.S. medical care are due to chronic conditions; spending are even higher in proportion for Medicare beneficiaries (aged 65 years and older).[18] Furthermore, in 2017 it was estimated that 90% of the $3.3 billion spent on healthcare in the United States was due to the treatment of chronic diseases and conditions.[44][45] Spending growth is driven in part by the greater prevalence of chronic illnesses and the longer life expectancy of the population. Also, improvement in treatments has significantly extended the lifespans of patients with chronic diseases but results in additional costs over long period of time. A striking success is the development of combined antiviral therapies that led to remarkable improvement in survival rates and quality of life of HIV-infected patients.[citation needed]\n",
            "\n",
            "In addition to direct costs in health care, chronic diseases are a significant burden to the economy, through limitations in daily activities, loss in productivity and loss of days of work. A particular concern is the rising rates of overweight and obesity in all segments of the U.S. population.[18] Obesity itself is a medical condition and not a disease, but it constitutes a major risk factor for developing chronic illnesses, such as diabetes, stroke, cardiovascular disease and cancers. Obesity results in significant health care spending and indirect costs, as illustrated by a recent study from the Texas comptroller reporting that obesity alone cost Texas businesses an extra $9.5 billion in 2009, including more than $4 billion for health care, $5 billion for lost productivity and absenteeism, and $321 million for disability.[46]\n",
            "\n",
            "Social and personal impact [ edit ]\n",
            "\n",
            "There have been recent links between social factors and prevalence as well as outcome of chronic conditions.\n",
            "\n",
            "Mental health [ edit ]\n",
            "\n",
            "Specifically, the connection between loneliness and health and chronic condition has recently been highlighted. Some studies have shown that loneliness has detrimental health effects similar to that of smoking and obesity.[47] One study found that feelings of isolation are associated with higher self reporting of health as poor, and feelings of loneliness increased the likelihood of mental health disorders in individuals.[48] The connection between chronic illness and loneliness is established, yet oftentimes ignored in treatment. One study for example found that a greater number of chronic illnesses per individual were associated with feelings of loneliness.[49] Some of the possible reasons for this listed are an inability to maintain independence as well as the chronic illness being a source of stress for the individual. A study of loneliness in adults over age 65 found that low levels of loneliness as well as high levels of familial support were associated with better outcomes of multiple chronic conditions such as hypertension and diabetes.[49] There are some recent movements in the medical sphere to address these connections when treating patients with chronic illness. The biopsychosocial approach for example, developed in 2006 focuses on patients \"patient's personality, family, culture, and health dynamics.\"[50] Physicians are leaning more towards a psychosocial approach to chronic illness to aid the increasing number of individuals diagnosed with these conditions. Despite this movement, there is still criticism that chronic conditions are not being treated appropriately, and there is not enough emphasis on the behavioral aspects of chronic conditions[51] or psychological types of support for patients.[52]\n",
            "\n",
            "The mental toll of chronic illness is often underestimated in society. Adults with chronic illness that restrict their daily life present with more depression and lower self-esteem than healthy adults and adults with non-restricting chronic illness.[53] The emotional influence of chronic illness also has an effect on the intellectual and educational development of the individual.[54] For example, people living with type 1 diabetes endure a lifetime of monotonous and rigorous health care management usually involving daily blood glucose monitoring, insulin injections, and constant self-care. This type of constant attention that is required by type 1 diabetes and other chronic illness can result in psychological maladjustment. There have been several theories, namely one called diabetes resilience theory, that posit that protective processes buffer the impact of risk factors on the individual's development and functioning.[55]\n",
            "\n",
            "Financial cost [ edit ]\n",
            "\n",
            "People with chronic conditions pay more out-of-pocket; a study of the United States found that people spent $2,243 more on average.[56] The financial burden can increase medication non-adherence.[57][58]\n",
            "\n",
            "In some countries, laws protect patients with chronic conditions from excessive financial responsibility; for example, as of 2008 France limited copayments for those with chronic conditions, and Germany limits cost sharing to 1% of income versus 2% for the general public.[59]\n",
            "\n",
            "Within the medical-industrial complex, chronic illnesses can impact the relationship between pharmaceutical companies and people with chronic conditions. Life-saving drugs, or life-extending drugs, can be inflated for a profit.[60] There is little regulation on the cost of chronic illness drugs, which suggests that abusing the lack of a drug cap can create a large market for drug revenue.[61] Likewise, certain chronic conditions can last throughout one's lifetime and create pathways for pharmaceutical companies to take advantage of this.[62]\n",
            "\n",
            "Gender [ edit ]\n",
            "\n",
            "Gender influences how chronic disease is viewed and treated in society. Women's chronic health issues are often considered to be most worthy of treatment or most severe when the chronic condition interferes with a woman's fertility. Historically, there is less of a focus on a woman's chronic conditions when it interferes with other aspects of her life or well-being. Many women report feeling less than or even \"half of a woman\" due to the pressures that society puts on the importance of fertility and health when it comes to typically feminine ideals. These kinds of social barriers interfere with women's ability to perform various other activities in life and fully work toward their aspirations.[63]\n",
            "\n",
            "Socioeconomic class and race [ edit ]\n",
            "\n",
            "Race is also allegedly implicated in chronic illness, although there may be many other factors involved. Racial minorities are 1.5-2 times more likely to have most chronic diseases than white individuals. Non-Hispanic blacks are 40% more likely to have high blood pressure that non-Hispanic whites, diagnosed diabetes is 77% higher among non-Hispanic blacks, and American Indians and Alaska Natives are 60% more likely to be obese than non-Hispanic whites.[64] Some of this prevalence has been suggested to be in part from environmental racism. Flint, Michigan, for example, had high levels of lead poisoning in their drinkable water after waste was dumped into low-value housing areas.[65] There are also higher rates of asthma in children who live in lower income areas due to an abundance of pollutants being released on a much larger scale in these areas.[66][67]\n",
            "\n",
            "Advocacy and research organizations [ edit ]\n",
            "\n",
            "In Europe, the European Chronic Disease Alliance was formed in 2011, which represents over 100,000 healthcare workers.[68]\n",
            "\n",
            "In the United States, there are a number of nonprofits focused on chronic conditions, including entities focused on specific diseases such as the American Diabetes Association, Alzheimer's Association, or Crohn's and Colitis Foundation. There are also broader groups focused on advocacy or research into chronic illness in general, such as the National Association of Chronic Disease Directors, Partnership to Fight Chronic Disease, the Chronic Disease Coalition which arose in Oregon in 2015,[69] and the Chronic Policy Care Alliance.[70]\n",
            "\n",
            "Narratives [ edit ]\n",
            "\n",
            "See also [ edit ]\n"
          ]
        }
      ]
    },
    {
      "cell_type": "code",
      "source": [
        "#Tokenization\n",
        "text=corpus\n",
        "sentence_list=nltk.sent_tokenize(text)"
      ],
      "metadata": {
        "id": "zBAwfbouzmuj"
      },
      "execution_count": null,
      "outputs": []
    },
    {
      "cell_type": "code",
      "source": [
        "sentence_list"
      ],
      "metadata": {
        "colab": {
          "base_uri": "https://localhost:8080/"
        },
        "id": "-4zyGoE6zxAN",
        "outputId": "92b4af3b-ae4a-4b8e-fc0a-3148b5595078"
      },
      "execution_count": null,
      "outputs": [
        {
          "output_type": "execute_result",
          "data": {
            "text/plain": [
              "['Persistent human health condition or disease\\n\\nNot to be confused with Chronic toxicity\\n\\nA chronic condition (also known as chronic disease or chronic illness) is a health condition or disease that is persistent or otherwise long-lasting in its effects or a disease that comes with time.',\n",
              " 'The term chronic is often applied when the course of the disease lasts for more than three months.',\n",
              " 'Common chronic diseases include diabetes, functional gastrointestinal disorder, eczema, arthritis, asthma, chronic obstructive pulmonary disease, autoimmune diseases, genetic disorders and some viral diseases such as hepatitis C and acquired immunodeficiency syndrome.',\n",
              " 'An illness which is lifelong because it ends in death is a terminal illness.',\n",
              " 'It is possible and not unexpected for an illness to change in definition from terminal to chronic.',\n",
              " 'Diabetes and HIV for example were once terminal yet are now considered chronic due to the availability of insulin for diabetics and daily drug treatment for individuals with HIV which allow these individuals to live while managing symptoms.',\n",
              " '[1]\\n\\nIn medicine, chronic conditions are distinguished from those that are acute.',\n",
              " 'An acute condition typically affects one portion of the body and responds to treatment.',\n",
              " 'A chronic condition, on the other hand, usually affects multiple areas of the body, is not fully responsive to treatment, and persists for an extended period of time.',\n",
              " '[2]\\n\\nChronic conditions may have periods of remission or relapse where the disease temporarily goes away, or subsequently reappears.',\n",
              " 'Periods of remission and relapse are commonly discussed when referring to substance abuse disorders which some consider to fall under the category of chronic condition.',\n",
              " '[3]\\n\\nChronic conditions are often associated with non-communicable diseases which are distinguished by their non-infectious causes.',\n",
              " 'Some chronic conditions though, are caused by transmissible infections such as HIV/AIDS.',\n",
              " '[citation needed]\\n\\n63% of all deaths worldwide are from chronic conditions.',\n",
              " '[4] Chronic diseases constitute a major cause of mortality, and the World Health Organization (WHO) attributes 38 million deaths a year to non-communicable diseases.',\n",
              " '[5] In the United States approximately 40% of adults have at least two chronic conditions.',\n",
              " '[6][7] Living with two or more chronic conditions is referred to as multimorbidity.',\n",
              " '[8]\\n\\nTypes [ edit ]\\n\\nChronic conditions have often been used to describe the various health related states of the human body such as syndromes, physical impairments, disabilities as well as diseases.',\n",
              " 'Epidemiologists have found interest in chronic conditions due to the fact they contribute to disease, disability, and diminished physical and/or mental capacity.',\n",
              " '[9]\\n\\nFor example, high blood pressure or hypertension is considered to be not only a chronic condition itself but also correlated to diseases such as heart attack or stroke.',\n",
              " 'Additionally, some socioeconomic factors may be considered as a chronic condition as they lead to disability in daily life.',\n",
              " 'An important one that public health officials in the social science setting have begun highlighting is chronic poverty.',\n",
              " '[10][11][12]\\n\\nResearchers, particularly those studying the United States, utilize the Chronic Condition Indicator (CCI) which maps ICD codes as \"chronic\" or \"non-chronic\".',\n",
              " '[13]\\n\\nThe list below includes these chronic conditions and diseases:\\n\\nIn 2015 the World Health Organization produced a report on non-communicable diseases, citing the four major types as:[14]\\n\\nOther examples of chronic diseases and health conditions include:\\n\\nRisk factors [ edit ]\\n\\nWhile risk factors vary with age and gender, many of the common chronic diseases in the US are caused by dietary, lifestyle and metabolic risk factors.',\n",
              " '[15] Therefore, these conditions might be prevented by behavioral changes, such as quitting smoking, adopting a healthy diet, and increasing physical activity.',\n",
              " 'Social determinants are important risk factors for chronic diseases.',\n",
              " '[16] Social factors, e.g., socioeconomic status, education level, and race/ethnicity, are a major cause for the disparities observed in the care of chronic disease.',\n",
              " '[16] Lack of access and delay in receiving care result in worse outcomes for patients from minorities and underserved populations.',\n",
              " '[17] Those barriers to medical care complicate patients monitoring and continuity in treatment.',\n",
              " '[citation needed]\\n\\nIn the US, minorities and low-income populations are less likely to seek, access and receive preventive services necessary to detect conditions at an early stage.',\n",
              " '[18]\\n\\nThe majority of US health care and economic costs associated with medical conditions are incurred by chronic diseases and conditions and associated health risk behaviors.',\n",
              " 'Eighty-four percent of all health care spending in 2006 was for the 50% of the population who have one or more common chronic medical conditions (CDC, 2014).',\n",
              " 'There are several psychosocial risk and resistance factors among children with chronic illness and their family members.',\n",
              " 'Adults with chronic illness were significantly more likely to report life dissatisfaction than those without chronic illness.',\n",
              " '[19] Compared to their healthy peers, children with chronic illness have about a twofold increase in psychiatric disorders.',\n",
              " '[20] Higher parental depression and other family stressors predicted more problems among patients.',\n",
              " '[21] In addition, sibling problems along with the burden of illness on the family as a whole led to more psychological strain on the patients and their families.',\n",
              " '[21]\\n\\nPrevention [ edit ]\\n\\nA growing body of evidence supports that prevention is effective in reducing the effect of chronic conditions; in particular, early detection results in less severe outcomes.',\n",
              " 'Clinical preventive services include screening for the existence of the disease or predisposition to its development, counseling and immunizations against infectious agents.',\n",
              " 'Despite their effectiveness, the utilization of preventive services is typically lower than for regular medical services.',\n",
              " 'In contrast to their apparent cost in time and money, the benefits of preventive services are not directly perceived by patient because their effects are on the long term or might be greater for society as a whole than at the individual level.',\n",
              " '[22]\\n\\nTherefore, public health programs are important in educating the public, and promoting healthy lifestyles and awareness about chronic diseases.',\n",
              " 'While those programs can benefit from funding at different levels (state, federal, private) their implementation is mostly in charge of local agencies and community-based organizations.',\n",
              " '[23]\\n\\nStudies have shown that public health programs are effective in reducing mortality rates associated to cardiovascular disease, diabetes and cancer, but the results are somewhat heterogeneous depending on the type of condition and the type of programs involved.',\n",
              " '[24] For example, results from different approaches in cancer prevention and screening depended highly on the type of cancer.',\n",
              " '[25] The rising number of patient with chronic diseases has renewed the interest in prevention and its potential role in helping control costs.',\n",
              " \"In 2008, the Trust for America's Health produced a report that estimated investing $10 per person annually in community-based programs of proven effectiveness and promoting healthy lifestyle (increase in physical activity, healthier diet and preventing tobacco use) could save more than $16 billion annually within a period of just five years.\",\n",
              " '[26]\\n\\nA 2017 review (updated in 2022) found that it is uncertain whether school-based policies on targeting risk factors on chronic diseases such as healthy eating policies, physical activity policies, and tobacco policies can improve student health behaviours or knowledge of staffs and students.',\n",
              " '[27] The updated review in 2022 did determine a slight improvement in measures of obesity and physical activity as the use of improved strategies lead to increased implementation interventions but continued to call for additional research to address questions related to alcohol use and risk.',\n",
              " '[27] Encouraging those with chronic conditions to continue with their outpatient (ambulatory) medical care and attend scheduled medical appointments may help improve outcomes and reduce medical costs due to missed appointments.',\n",
              " '[28] Finding patient-centered alternatives to doctors or consultants scheduling medical appointments has been suggested as a means of improving the number of people with chronic conditions that miss medical appointments, however there is no strong evidence that these approaches make a difference.',\n",
              " '[28]\\n\\nNursing [ edit ]\\n\\nNursing can play an important role in assisting patients with chronic diseases achieve longevity and experience wellness.',\n",
              " '[29] Scholars point out that the current neoliberal era emphasizes self-care, in both affluent and low-income communities.',\n",
              " '[30] This self-care focus extends to the nursing of patients with chronic diseases, replacing a more holistic role for nursing with an emphasis on patients managing their own health conditions.',\n",
              " 'Critics note that this is challenging if not impossible for patients with chronic disease in low-income communities where health care systems, and economic and social structures do not fully support this practice.',\n",
              " '[30]\\n\\nA study in Ethiopia showcases a nursing-heavy approach to the management of chronic disease.',\n",
              " 'Foregrounding the problem of distance from healthcare facility, the study recommends patients increase their request for care.',\n",
              " 'It uses nurses and health officers to fill, in a cost-efficient way, the large unmet need for chronic disease treatment.',\n",
              " '[31] They led their health centers manned by nurses and health officers; so, there are specific training required for involvement in the programmed must be carried out regularly, to ensure that new staff is educated in administering chronic disease care.',\n",
              " '[31] The program shows that community-based care and education, primarily driven by nurses and health officers, works.',\n",
              " \"[31] It highlights the importance of nurses following up with individuals in the community, and allowing nurses flexibility in meeting their patients' needs and educating them for self-care in their homes.\",\n",
              " '[citation needed]\\n\\nEpidemiology [ edit ]\\n\\nThe epidemiology of chronic disease is diverse and the epidemiology of some chronic diseases can change in response to new treatments.',\n",
              " 'In the treatment of HIV, the success of anti-retroviral therapies means that many patients will experience this infection as a chronic disease that for many will span several decades of their chronic life.',\n",
              " '[32]\\n\\nSome epidemiology of chronic disease can apply to multiple diagnosis.',\n",
              " 'Obesity and body fat distribution for example contribute and are risk factors for many chronic diseases such as diabetes, heart, and kidney disease.',\n",
              " '[33] Other epidemiological factors, such as social, socioeconomic, and environment do not have a straightforward cause and effect relationship with chronic disease diagnosis.',\n",
              " 'While typically higher socioeconomic status is correlated with lower occurrence of chronic disease, it is not known is there is a direct cause and effect relationship between these two variables.',\n",
              " '[34]\\n\\nThe epidemiology of communicable chronic diseases such as AIDS is also different from that of noncommunicable chronic disease.',\n",
              " 'While Social factors do play a role in AIDS prevalence, only exposure is truly needed to contract this chronic disease.',\n",
              " 'Communicable chronic diseases are also typically only treatable with medication intervention, rather than lifestyle change as some non-communicable chronic diseases can be treated.',\n",
              " '[35]\\n\\nUnited States [ edit ]\\n\\nAs of 2003, there are a few programs which aim to gain more knowledge on the epidemiology of chronic disease using data collection.',\n",
              " 'The hope of these programs is to gather epidemiological data on various chronic diseases across the United States and demonstrate how this knowledge can be valuable in addressing chronic disease.',\n",
              " '[36]\\n\\nIn the United States, as of 2004 nearly one in two Americans (133 million) has at least one chronic medical condition, with most subjects (58%) between the ages of 18 and 64.',\n",
              " '[13] The number is projected to increase by more than one percent per year by 2030, resulting in an estimated chronically ill population of 171 million.',\n",
              " '[13] The most common chronic conditions are high blood pressure, arthritis, respiratory diseases like emphysema, and high cholesterol.',\n",
              " '[citation needed]\\n\\nBased on data from 2014 Medical Expenditure Panel Survey (MEPS), about 60% of adult Americans were estimated to have one chronic illness, with about 40% having more than one; this rate appears to be mostly unchanged from 2008.',\n",
              " '[37] MEPS data from 1998 showed 45% of adult Americans had at least one chronic illness, and 21% had more than one.',\n",
              " '[38]\\n\\nAccording to research by the CDC, chronic disease is also especially a concern in the elderly population in America.',\n",
              " 'Chronic diseases like stroke, heart disease, and cancer were among the leading causes of death among Americans aged 65 or older in 2002, accounting for 61% of all deaths among this subset of the population.',\n",
              " '[39] It is estimated that at least 80% of older Americans are currently living with some form of a chronic condition, with 50% of this population having two or more chronic conditions.',\n",
              " '[39] The two most common chronic conditions in the elderly are high blood pressure and arthritis, with diabetes, coronary heart disease, and cancer also being reported among the elder population.',\n",
              " '[40]\\n\\nIn examining the statistics of chronic disease among the living elderly, it is also important to make note of the statistics pertaining to fatalities as a result of chronic disease.',\n",
              " \"Heart disease is the leading cause of death from chronic disease for adults older than 65, followed by cancer, stroke, diabetes, chronic lower respiratory diseases, influenza and pneumonia, and, finally, Alzheimer's disease.\",\n",
              " '[39] Though the rates of chronic disease differ by race for those living with chronic illness, the statistics for leading causes of death among elderly are nearly identical across racial/ethnic groups.',\n",
              " \"[39]\\n\\nChronic illnesses cause about 70% of deaths in the US and in 2002 chronic conditions (heart disease, cancers, stroke, chronic respiratory diseases, diabetes, Alzheimer's disease, mental illness and kidney diseases) were six of the top ten causes of mortality in the general US population.\",\n",
              " '[41]\\n\\nEconomic impact [ edit ]\\n\\nUnited States [ edit ]\\n\\nChronic diseases are a major factor in the continuous growth of medical care spending.',\n",
              " '[42] In 2002, the U.S. Department of Health and Human Services stated that the health care for chronic diseases cost the most among all health problems in the U.S.[43] Healthy People 2010 reported that more than 75% of the $2 trillion spent annually in U.S. medical care are due to chronic conditions; spending are even higher in proportion for Medicare beneficiaries (aged 65 years and older).',\n",
              " '[18] Furthermore, in 2017 it was estimated that 90% of the $3.3 billion spent on healthcare in the United States was due to the treatment of chronic diseases and conditions.',\n",
              " '[44][45] Spending growth is driven in part by the greater prevalence of chronic illnesses and the longer life expectancy of the population.',\n",
              " 'Also, improvement in treatments has significantly extended the lifespans of patients with chronic diseases but results in additional costs over long period of time.',\n",
              " 'A striking success is the development of combined antiviral therapies that led to remarkable improvement in survival rates and quality of life of HIV-infected patients.',\n",
              " '[citation needed]\\n\\nIn addition to direct costs in health care, chronic diseases are a significant burden to the economy, through limitations in daily activities, loss in productivity and loss of days of work.',\n",
              " 'A particular concern is the rising rates of overweight and obesity in all segments of the U.S.',\n",
              " 'population.',\n",
              " '[18] Obesity itself is a medical condition and not a disease, but it constitutes a major risk factor for developing chronic illnesses, such as diabetes, stroke, cardiovascular disease and cancers.',\n",
              " 'Obesity results in significant health care spending and indirect costs, as illustrated by a recent study from the Texas comptroller reporting that obesity alone cost Texas businesses an extra $9.5 billion in 2009, including more than $4 billion for health care, $5 billion for lost productivity and absenteeism, and $321 million for disability.',\n",
              " '[46]\\n\\nSocial and personal impact [ edit ]\\n\\nThere have been recent links between social factors and prevalence as well as outcome of chronic conditions.',\n",
              " 'Mental health [ edit ]\\n\\nSpecifically, the connection between loneliness and health and chronic condition has recently been highlighted.',\n",
              " 'Some studies have shown that loneliness has detrimental health effects similar to that of smoking and obesity.',\n",
              " '[47] One study found that feelings of isolation are associated with higher self reporting of health as poor, and feelings of loneliness increased the likelihood of mental health disorders in individuals.',\n",
              " '[48] The connection between chronic illness and loneliness is established, yet oftentimes ignored in treatment.',\n",
              " 'One study for example found that a greater number of chronic illnesses per individual were associated with feelings of loneliness.',\n",
              " '[49] Some of the possible reasons for this listed are an inability to maintain independence as well as the chronic illness being a source of stress for the individual.',\n",
              " 'A study of loneliness in adults over age 65 found that low levels of loneliness as well as high levels of familial support were associated with better outcomes of multiple chronic conditions such as hypertension and diabetes.',\n",
              " '[49] There are some recent movements in the medical sphere to address these connections when treating patients with chronic illness.',\n",
              " 'The biopsychosocial approach for example, developed in 2006 focuses on patients \"patient\\'s personality, family, culture, and health dynamics.',\n",
              " '\"[50] Physicians are leaning more towards a psychosocial approach to chronic illness to aid the increasing number of individuals diagnosed with these conditions.',\n",
              " 'Despite this movement, there is still criticism that chronic conditions are not being treated appropriately, and there is not enough emphasis on the behavioral aspects of chronic conditions[51] or psychological types of support for patients.',\n",
              " '[52]\\n\\nThe mental toll of chronic illness is often underestimated in society.',\n",
              " 'Adults with chronic illness that restrict their daily life present with more depression and lower self-esteem than healthy adults and adults with non-restricting chronic illness.',\n",
              " '[53] The emotional influence of chronic illness also has an effect on the intellectual and educational development of the individual.',\n",
              " '[54] For example, people living with type 1 diabetes endure a lifetime of monotonous and rigorous health care management usually involving daily blood glucose monitoring, insulin injections, and constant self-care.',\n",
              " 'This type of constant attention that is required by type 1 diabetes and other chronic illness can result in psychological maladjustment.',\n",
              " \"There have been several theories, namely one called diabetes resilience theory, that posit that protective processes buffer the impact of risk factors on the individual's development and functioning.\",\n",
              " '[55]\\n\\nFinancial cost [ edit ]\\n\\nPeople with chronic conditions pay more out-of-pocket; a study of the United States found that people spent $2,243 more on average.',\n",
              " '[56] The financial burden can increase medication non-adherence.',\n",
              " '[57][58]\\n\\nIn some countries, laws protect patients with chronic conditions from excessive financial responsibility; for example, as of 2008 France limited copayments for those with chronic conditions, and Germany limits cost sharing to 1% of income versus 2% for the general public.',\n",
              " '[59]\\n\\nWithin the medical-industrial complex, chronic illnesses can impact the relationship between pharmaceutical companies and people with chronic conditions.',\n",
              " 'Life-saving drugs, or life-extending drugs, can be inflated for a profit.',\n",
              " '[60] There is little regulation on the cost of chronic illness drugs, which suggests that abusing the lack of a drug cap can create a large market for drug revenue.',\n",
              " \"[61] Likewise, certain chronic conditions can last throughout one's lifetime and create pathways for pharmaceutical companies to take advantage of this.\",\n",
              " '[62]\\n\\nGender [ edit ]\\n\\nGender influences how chronic disease is viewed and treated in society.',\n",
              " \"Women's chronic health issues are often considered to be most worthy of treatment or most severe when the chronic condition interferes with a woman's fertility.\",\n",
              " \"Historically, there is less of a focus on a woman's chronic conditions when it interferes with other aspects of her life or well-being.\",\n",
              " 'Many women report feeling less than or even \"half of a woman\" due to the pressures that society puts on the importance of fertility and health when it comes to typically feminine ideals.',\n",
              " \"These kinds of social barriers interfere with women's ability to perform various other activities in life and fully work toward their aspirations.\",\n",
              " '[63]\\n\\nSocioeconomic class and race [ edit ]\\n\\nRace is also allegedly implicated in chronic illness, although there may be many other factors involved.',\n",
              " 'Racial minorities are 1.5-2 times more likely to have most chronic diseases than white individuals.',\n",
              " 'Non-Hispanic blacks are 40% more likely to have high blood pressure that non-Hispanic whites, diagnosed diabetes is 77% higher among non-Hispanic blacks, and American Indians and Alaska Natives are 60% more likely to be obese than non-Hispanic whites.',\n",
              " '[64] Some of this prevalence has been suggested to be in part from environmental racism.',\n",
              " 'Flint, Michigan, for example, had high levels of lead poisoning in their drinkable water after waste was dumped into low-value housing areas.',\n",
              " '[65] There are also higher rates of asthma in children who live in lower income areas due to an abundance of pollutants being released on a much larger scale in these areas.',\n",
              " '[66][67]\\n\\nAdvocacy and research organizations [ edit ]\\n\\nIn Europe, the European Chronic Disease Alliance was formed in 2011, which represents over 100,000 healthcare workers.',\n",
              " \"[68]\\n\\nIn the United States, there are a number of nonprofits focused on chronic conditions, including entities focused on specific diseases such as the American Diabetes Association, Alzheimer's Association, or Crohn's and Colitis Foundation.\",\n",
              " 'There are also broader groups focused on advocacy or research into chronic illness in general, such as the National Association of Chronic Disease Directors, Partnership to Fight Chronic Disease, the Chronic Disease Coalition which arose in Oregon in 2015,[69] and the Chronic Policy Care Alliance.',\n",
              " '[70]\\n\\nNarratives [ edit ]\\n\\nSee also [ edit ]']"
            ]
          },
          "metadata": {},
          "execution_count": 46
        }
      ]
    },
    {
      "cell_type": "code",
      "source": [
        "#generating a random greeting response\n",
        "def greeting_response(text):\n",
        "  text=text.lower()\n",
        "  #defining the bots greeting responses\n",
        "  bot_greets=['hi','hello','hey','howdy','namaste']\n",
        "  #defining user greetings\n",
        "  user_greets=['hi','hello','hey','howdy','namaste','greetings','wassup']\n",
        "  for word in text.split():\n",
        "    if word in user_greets:\n",
        "      return random.choice(bot_greets)"
      ],
      "metadata": {
        "id": "nli_l-1jzyoa"
      },
      "execution_count": null,
      "outputs": []
    },
    {
      "cell_type": "code",
      "source": [
        "def index_sort(list_var):\n",
        "  length=len(list_var)\n",
        "  list_index=list(range(0,length))\n",
        "  x=list_var\n",
        "  for i in range(length):\n",
        "      for j in range(length):\n",
        "        if x[list_index[i]] > x[list_index[j]]:\n",
        "          #swap\n",
        "          temp=list_index[i]\n",
        "          list_index[i]=list_index[j]\n",
        "          list_index[j]=temp\n",
        "  return list_index"
      ],
      "metadata": {
        "id": "aKBXpUck2lUD"
      },
      "execution_count": null,
      "outputs": []
    },
    {
      "cell_type": "code",
      "source": [
        "#create bot's response\n",
        "def bot_response(user_input):\n",
        "  user_input=user_input.lower()\n",
        "  sentence_list.append(user_input)\n",
        "  bot_response=''\n",
        "  cm=CountVectorizer().fit_transform(sentence_list)\n",
        "  similarity_scores=cosine_similarity(cm[-1],cm)\n",
        "  similarity_scores_list=similarity_scores.flatten()\n",
        "  index=index_sort(similarity_scores_list)\n",
        "  \"\"\"simce we are going to append the user input to the user_input list and then check for the similarity scores therefore the current user input will have 100 percent similarity\n",
        "  and since we have sorted in the descending order we can say that if we want to avoid the current input and search for relavant result from any previous inputs then we have to\n",
        "  ignore just the first index in the index named list because that will be 1.0 similarity score since it is comparing to itself\"\"\"\n",
        "  index=index[1:]\n",
        "  response_flag=0\n",
        "\n",
        "  j=0 #variable for giving us top 3 sentences similar to user's input\n",
        "  for i in range(len(index)):\n",
        "    if similarity_scores_list[index[i]]>0.0:\n",
        "      bot_response=bot_response+' '+sentence_list[index[i]]\n",
        "      response_flag=1\n",
        "      j+=1\n",
        "    if j>2:\n",
        "        break\n",
        "\n",
        "  if response_flag==0:\n",
        "    bot_response=bot_response+\"I apologize , I don't understand\"\n",
        "  sentence_list.remove(user_input)\n",
        "\n",
        "  return bot_response"
      ],
      "metadata": {
        "id": "fa8C2FnU1Ry8"
      },
      "execution_count": null,
      "outputs": []
    },
    {
      "cell_type": "code",
      "source": [
        "#starting the chat\n",
        "print('Doc Bot: I am Doctor Bot or Doc Bot for short. I will answer your queries about chronic kidney disease , if you want to exit type bye')\n",
        "exit_list=['exit','see you later' ,'bye','break']\n",
        "while(True):\n",
        "  user_input=input()\n",
        "  if user_input.lower() in exit_list:\n",
        "    print('Doc Bot: Chat with you later.')\n",
        "    break\n",
        "  else:\n",
        "    if greeting_response(user_input)!=None:\n",
        "      print('Doc Bot: '+greeting_response(user_input))\n",
        "    else:\n",
        "      print('Doc Bot: '+bot_response(user_input))"
      ],
      "metadata": {
        "colab": {
          "base_uri": "https://localhost:8080/"
        },
        "id": "Plipc2UM1opj",
        "outputId": "f5d1c66b-ee26-4278-f9dd-f59d1ffb68b0"
      },
      "execution_count": null,
      "outputs": [
        {
          "output_type": "stream",
          "name": "stdout",
          "text": [
            "Doc Bot: I am Doctor Bot or Doc Bot for short. I will answer your queries about chronic kidney disease , if you want to exit type bye\n",
            "hi\n",
            "Doc Bot: hello\n",
            "howdy\n",
            "Doc Bot: namaste\n",
            "tell me about deaths due to chronic diseases\n",
            "Doc Bot:  [4] Chronic diseases constitute a major cause of mortality, and the World Health Organization (WHO) attributes 38 million deaths a year to non-communicable diseases. Racial minorities are 1.5-2 times more likely to have most chronic diseases than white individuals. [39]\n",
            "\n",
            "Chronic illnesses cause about 70% of deaths in the US and in 2002 chronic conditions (heart disease, cancers, stroke, chronic respiratory diseases, diabetes, Alzheimer's disease, mental illness and kidney diseases) were six of the top ten causes of mortality in the general US population.\n",
            "bye\n",
            "Doc Bot: Chat with you later.\n"
          ]
        }
      ]
    },
    {
      "cell_type": "code",
      "source": [],
      "metadata": {
        "id": "0TatoEs6_2UU"
      },
      "execution_count": null,
      "outputs": []
    }
  ]
}